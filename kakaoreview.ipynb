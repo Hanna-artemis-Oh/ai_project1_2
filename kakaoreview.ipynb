{
  "nbformat": 4,
  "nbformat_minor": 0,
  "metadata": {
    "colab": {
      "name": "kakaoreview.ipynb",
      "provenance": [],
      "collapsed_sections": []
    },
    "kernelspec": {
      "name": "python3",
      "display_name": "Python 3"
    },
    "language_info": {
      "name": "python"
    }
  },
  "cells": [
    {
      "cell_type": "code",
      "execution_count": 1,
      "metadata": {
        "colab": {
          "base_uri": "https://localhost:8080/"
        },
        "id": "0Ff0zAdPo-QK",
        "outputId": "3df345aa-e71c-4400-b952-befd5d174737"
      },
      "outputs": [
        {
          "output_type": "stream",
          "name": "stdout",
          "text": [
            "fonts-nanum is already the newest version (20170925-1).\n",
            "The following package was automatically installed and is no longer required:\n",
            "  libnvidia-common-460\n",
            "Use 'apt autoremove' to remove it.\n",
            "0 upgraded, 0 newly installed, 0 to remove and 49 not upgraded.\n"
          ]
        }
      ],
      "source": [
        "# 코랩 한글 사용\n",
        "!apt -qq -y install fonts-nanum\n",
        " \n",
        "import matplotlib.pyplot as plt\n",
        "import matplotlib.font_manager as fm\n",
        " \n",
        "fontpath = '/usr/share/fonts/truetype/nanum/NanumBarunGothic.ttf'\n",
        "font = fm.FontProperties(fname=fontpath, size=10)\n",
        "fm._rebuild()\n",
        " \n",
        "# 그래프에 retina display 적용\n",
        "%config InlineBackend.figure_format = 'retina'\n",
        " \n",
        "# Colab 의 한글 폰트 설정\n",
        "plt.rc('font', family='NanumBarunGothic') "
      ]
    },
    {
      "cell_type": "code",
      "source": [
        "# 구글드라이브 연동\n",
        "from google.colab import drive\n",
        "drive.mount('/gdrive', force_remount=True)\n",
        "\n",
        "# 구글 드라이브 파일 확인\n",
        "!ls '/gdrive/My Drive/temp/'\n",
        "\n",
        "# 반복되는 드라이브 경로 변수화\n",
        "drive_path = '/gdrive/My Drive/temp/'"
      ],
      "metadata": {
        "id": "UjCXzqnhp37p"
      },
      "execution_count": null,
      "outputs": []
    },
    {
      "cell_type": "code",
      "source": [
        "import warnings\n",
        "warnings.filterwarnings('ignore')           # 성가신 warning은 off 해준다. "
      ],
      "metadata": {
        "id": "2pT4xvajp6bY"
      },
      "execution_count": 3,
      "outputs": []
    },
    {
      "cell_type": "code",
      "source": [
        "# 설치(20.08 코랩 기준)\n",
        "!pip install Selenium\n",
        "!apt-get update # to update ubuntu to correctly run apt install\n",
        "!apt install chromium-chromedriver\n",
        "!cp /usr/lib/chromium-browser/chromedriver /usr/bin"
      ],
      "metadata": {
        "id": "eNNg5HQqOtXw"
      },
      "execution_count": null,
      "outputs": []
    },
    {
      "cell_type": "code",
      "source": [
        "# from webdriver_manager.chrome import ChromeDriverManager # 자동으로 크롬드라이버(가상브라우저) 파일을 다운로드해주는 라이브러리\n",
        "# from selenium.webdriver.chrome.service import Service # 다운로드된 크롬드라이버 파일을 연결하기 위해 활용\n",
        "\n",
        "from selenium import webdriver\n",
        "from selenium.webdriver.common.by import By\n",
        "from selenium.webdriver.common.keys import Keys\n",
        "\n",
        "from bs4 import BeautifulSoup \n",
        "from urllib.request import urlopen \n",
        "import time"
      ],
      "metadata": {
        "id": "iZGLxPPAOwJH"
      },
      "execution_count": 5,
      "outputs": []
    },
    {
      "cell_type": "code",
      "source": [
        "chrome_options = webdriver.ChromeOptions()\n",
        "chrome_options.add_argument('--headless')   # 내부 창을 띄울 수 없으므로 설정\n",
        "chrome_options.add_argument('--no-sandbox')\n",
        "chrome_options.add_argument('--disable-dev-shm-usage')\n",
        "chrome_options.add_argument(\"disable-gpu\")\n",
        "chrome_options.add_argument(\"--lang=ko_KR\")\n",
        "    "
      ],
      "metadata": {
        "id": "8yGsHaDPO3di"
      },
      "execution_count": 6,
      "outputs": []
    },
    {
      "cell_type": "code",
      "source": [
        "# Chrome 드라이버 생성 후 Browser 객체 반환 \n",
        "driver = webdriver.Chrome('chromedriver', chrome_options=chrome_options)"
      ],
      "metadata": {
        "id": "4vX9qgKG5uGv"
      },
      "execution_count": 40,
      "outputs": []
    },
    {
      "cell_type": "markdown",
      "source": [
        ""
      ],
      "metadata": {
        "id": "n-LKkOrciavy"
      }
    },
    {
      "cell_type": "code",
      "source": [
        "kakao = 'https://place.map.kakao.com/10731896?service=search_pc'"
      ],
      "metadata": {
        "id": "LLuqVRkMKU6U"
      },
      "execution_count": 37,
      "outputs": []
    },
    {
      "cell_type": "code",
      "source": [
        "driver.get(kakao)\n",
        "time.sleep(2)\n",
        "driver.save_screenshot('kakao00.png')"
      ],
      "metadata": {
        "colab": {
          "base_uri": "https://localhost:8080/"
        },
        "id": "Rd_aMZ34iqS7",
        "outputId": "ac9568d6-5a06-4fc1-ddcf-5f557b89a4a6"
      },
      "execution_count": 41,
      "outputs": [
        {
          "output_type": "execute_result",
          "data": {
            "text/plain": [
              "True"
            ]
          },
          "metadata": {},
          "execution_count": 41
        }
      ]
    },
    {
      "cell_type": "code",
      "source": [
        "soup = BeautifulSoup(driver.page_source, 'html.parser')"
      ],
      "metadata": {
        "id": "iKDvH0ms3R8o"
      },
      "execution_count": 10,
      "outputs": []
    },
    {
      "cell_type": "code",
      "source": [
        "total_review_num = soup.select_one('strong.total_evaluation > span')\n",
        "total_review_num = int(total_review_num.text)\n",
        "total_review_num"
      ],
      "metadata": {
        "colab": {
          "base_uri": "https://localhost:8080/"
        },
        "id": "srFz2Jtk3FGe",
        "outputId": "2903499b-791b-4f4d-d8e7-6edfc44d53bd"
      },
      "execution_count": 11,
      "outputs": [
        {
          "output_type": "execute_result",
          "data": {
            "text/plain": [
              "185"
            ]
          },
          "metadata": {},
          "execution_count": 11
        }
      ]
    },
    {
      "cell_type": "code",
      "source": [
        "if total_review_num % 2 == 0:\n",
        "  click_num = total_review_num // 5 - 1\n",
        "else:\n",
        "  click_num = total_review_num // 5\n",
        "click_num"
      ],
      "metadata": {
        "colab": {
          "base_uri": "https://localhost:8080/"
        },
        "id": "GPjFFnuG4Zcf",
        "outputId": "5e3dfdb9-a9e9-4821-d715-27e03e9b1386"
      },
      "execution_count": 29,
      "outputs": [
        {
          "output_type": "execute_result",
          "data": {
            "text/plain": [
              "37"
            ]
          },
          "metadata": {},
          "execution_count": 29
        }
      ]
    },
    {
      "cell_type": "code",
      "source": [
        "import random\n",
        "\n",
        "star_list = []\n",
        "content_list = []\n",
        "date_list = []\n",
        "idx = 0\n",
        "\n",
        "for page_num in range(1, click_num+1):\n",
        "  try:\n",
        "    idx += 1\n",
        "    stars = driver.find_elements(By.CSS_SELECTOR, 'ul.list_evaluation em.num_rate')\n",
        "    contents = driver.find_elements(By.CSS_SELECTOR, 'p.txt_comment')\n",
        "    dates = driver.find_elements(By.CSS_SELECTOR, 'span.time_write')   \n",
        "    if page_num < click_num:\n",
        "      btn_page = driver.find_element(By.CSS_SELECTOR, f'div.paging_mapdetail > a:nth-of-type({idx})')\n",
        "\n",
        "    for star in stars:\n",
        "      star_list.append(star.text)\n",
        "\n",
        "    for content in contents:\n",
        "      content_list.append(content.text)\n",
        "\n",
        "    for date in dates:\n",
        "      date_list.append(date.text)\n",
        "    \n",
        "    if page_num == click_num:\n",
        "      break\n",
        "\n",
        "    if page_num % 5 == 0:\n",
        "      idx = 1\n",
        "      btn_page = driver.find_element(By.CSS_SELECTOR, 'div.paging_mapdetail > a.btn_next')\n",
        "\n",
        "    print(btn_page.text +'페이지 스크랩 중...')\n",
        "    btn_page.click()\n",
        "    time.sleep(5 + random.random())\n",
        "  except:\n",
        "    print('Something Wrong!')\n"
      ],
      "metadata": {
        "colab": {
          "base_uri": "https://localhost:8080/"
        },
        "id": "9eLNqd3k67bm",
        "outputId": "48be071e-908a-4f59-9635-24e195677ad3"
      },
      "execution_count": 42,
      "outputs": [
        {
          "output_type": "stream",
          "name": "stdout",
          "text": [
            "2페이지 스크랩 중...\n",
            "3페이지 스크랩 중...\n",
            "4페이지 스크랩 중...\n",
            "5페이지 스크랩 중...\n",
            "다음페이지 스크랩 중...\n",
            "7페이지 스크랩 중...\n",
            "8페이지 스크랩 중...\n",
            "9페이지 스크랩 중...\n",
            "10페이지 스크랩 중...\n",
            "다음페이지 스크랩 중...\n",
            "12페이지 스크랩 중...\n",
            "13페이지 스크랩 중...\n",
            "14페이지 스크랩 중...\n",
            "15페이지 스크랩 중...\n",
            "다음페이지 스크랩 중...\n",
            "17페이지 스크랩 중...\n",
            "18페이지 스크랩 중...\n",
            "19페이지 스크랩 중...\n",
            "20페이지 스크랩 중...\n",
            "다음페이지 스크랩 중...\n",
            "22페이지 스크랩 중...\n",
            "23페이지 스크랩 중...\n",
            "24페이지 스크랩 중...\n",
            "25페이지 스크랩 중...\n",
            "다음페이지 스크랩 중...\n",
            "27페이지 스크랩 중...\n",
            "28페이지 스크랩 중...\n",
            "29페이지 스크랩 중...\n",
            "30페이지 스크랩 중...\n",
            "다음페이지 스크랩 중...\n",
            "32페이지 스크랩 중...\n",
            "33페이지 스크랩 중...\n",
            "34페이지 스크랩 중...\n",
            "35페이지 스크랩 중...\n",
            "다음페이지 스크랩 중...\n",
            "37페이지 스크랩 중...\n"
          ]
        }
      ]
    },
    {
      "cell_type": "code",
      "source": [
        "print(len(star_list))\n",
        "print(len(content_list))\n",
        "print(len(date_list))"
      ],
      "metadata": {
        "colab": {
          "base_uri": "https://localhost:8080/"
        },
        "id": "bz365f_k860C",
        "outputId": "ca22babd-f7d9-47ea-918a-80bf449e65cc"
      },
      "execution_count": 43,
      "outputs": [
        {
          "output_type": "stream",
          "name": "stdout",
          "text": [
            "185\n",
            "185\n",
            "185\n"
          ]
        }
      ]
    },
    {
      "cell_type": "code",
      "source": [
        "import pandas as pd\n",
        "\n",
        "df = pd.DataFrame({'star':star_list, 'date':date_list, 'content':content_list})\n",
        "df"
      ],
      "metadata": {
        "id": "dDEnNAY-9Kvw",
        "colab": {
          "base_uri": "https://localhost:8080/",
          "height": 424
        },
        "outputId": "587caa7c-d767-4e8f-dac7-e9694caaf3e4"
      },
      "execution_count": 44,
      "outputs": [
        {
          "output_type": "execute_result",
          "data": {
            "text/plain": [
              "    star         date                                            content\n",
              "0      5  2022.07.27.   육학년인데 동생, 조부모님, 부모님과 함께 갔어요. 살짝 비오는 날씨였는데 다닐만...\n",
              "1      1  2022.07.11.                                    전주 사람들은. 거의 안가요\n",
              "2      5  2022.07.08.     개개인마다 느끼는바가 틀리겠지만 저희부부는 만족하였습니다. 평일에 방문하였습니다. \n",
              "3      5  2022.06.29.                                                   \n",
              "4      1  2022.06.25.  단아함이라곤 1도 없는 싸구려틱하고 화려한 한복가게들, 왜 있는 건지 모를 사주가게...\n",
              "..   ...          ...                                                ...\n",
              "180    5  2016.04.16.                              와이프와 신혼여행 장소. 마음에 들었다\n",
              "181    3  2016.04.09.                                                   \n",
              "182    3  2016.04.04.                                                   \n",
              "183    4  2016.04.03.                                  보고 먹고 체험하고 즐길수있는 \n",
              "184    3  2016.03.13.                                                   \n",
              "\n",
              "[185 rows x 3 columns]"
            ],
            "text/html": [
              "\n",
              "  <div id=\"df-94218a90-8185-4f10-98c0-dea37ad44f44\">\n",
              "    <div class=\"colab-df-container\">\n",
              "      <div>\n",
              "<style scoped>\n",
              "    .dataframe tbody tr th:only-of-type {\n",
              "        vertical-align: middle;\n",
              "    }\n",
              "\n",
              "    .dataframe tbody tr th {\n",
              "        vertical-align: top;\n",
              "    }\n",
              "\n",
              "    .dataframe thead th {\n",
              "        text-align: right;\n",
              "    }\n",
              "</style>\n",
              "<table border=\"1\" class=\"dataframe\">\n",
              "  <thead>\n",
              "    <tr style=\"text-align: right;\">\n",
              "      <th></th>\n",
              "      <th>star</th>\n",
              "      <th>date</th>\n",
              "      <th>content</th>\n",
              "    </tr>\n",
              "  </thead>\n",
              "  <tbody>\n",
              "    <tr>\n",
              "      <th>0</th>\n",
              "      <td>5</td>\n",
              "      <td>2022.07.27.</td>\n",
              "      <td>육학년인데 동생, 조부모님, 부모님과 함께 갔어요. 살짝 비오는 날씨였는데 다닐만...</td>\n",
              "    </tr>\n",
              "    <tr>\n",
              "      <th>1</th>\n",
              "      <td>1</td>\n",
              "      <td>2022.07.11.</td>\n",
              "      <td>전주 사람들은. 거의 안가요</td>\n",
              "    </tr>\n",
              "    <tr>\n",
              "      <th>2</th>\n",
              "      <td>5</td>\n",
              "      <td>2022.07.08.</td>\n",
              "      <td>개개인마다 느끼는바가 틀리겠지만 저희부부는 만족하였습니다. 평일에 방문하였습니다.</td>\n",
              "    </tr>\n",
              "    <tr>\n",
              "      <th>3</th>\n",
              "      <td>5</td>\n",
              "      <td>2022.06.29.</td>\n",
              "      <td></td>\n",
              "    </tr>\n",
              "    <tr>\n",
              "      <th>4</th>\n",
              "      <td>1</td>\n",
              "      <td>2022.06.25.</td>\n",
              "      <td>단아함이라곤 1도 없는 싸구려틱하고 화려한 한복가게들, 왜 있는 건지 모를 사주가게...</td>\n",
              "    </tr>\n",
              "    <tr>\n",
              "      <th>...</th>\n",
              "      <td>...</td>\n",
              "      <td>...</td>\n",
              "      <td>...</td>\n",
              "    </tr>\n",
              "    <tr>\n",
              "      <th>180</th>\n",
              "      <td>5</td>\n",
              "      <td>2016.04.16.</td>\n",
              "      <td>와이프와 신혼여행 장소. 마음에 들었다</td>\n",
              "    </tr>\n",
              "    <tr>\n",
              "      <th>181</th>\n",
              "      <td>3</td>\n",
              "      <td>2016.04.09.</td>\n",
              "      <td></td>\n",
              "    </tr>\n",
              "    <tr>\n",
              "      <th>182</th>\n",
              "      <td>3</td>\n",
              "      <td>2016.04.04.</td>\n",
              "      <td></td>\n",
              "    </tr>\n",
              "    <tr>\n",
              "      <th>183</th>\n",
              "      <td>4</td>\n",
              "      <td>2016.04.03.</td>\n",
              "      <td>보고 먹고 체험하고 즐길수있는</td>\n",
              "    </tr>\n",
              "    <tr>\n",
              "      <th>184</th>\n",
              "      <td>3</td>\n",
              "      <td>2016.03.13.</td>\n",
              "      <td></td>\n",
              "    </tr>\n",
              "  </tbody>\n",
              "</table>\n",
              "<p>185 rows × 3 columns</p>\n",
              "</div>\n",
              "      <button class=\"colab-df-convert\" onclick=\"convertToInteractive('df-94218a90-8185-4f10-98c0-dea37ad44f44')\"\n",
              "              title=\"Convert this dataframe to an interactive table.\"\n",
              "              style=\"display:none;\">\n",
              "        \n",
              "  <svg xmlns=\"http://www.w3.org/2000/svg\" height=\"24px\"viewBox=\"0 0 24 24\"\n",
              "       width=\"24px\">\n",
              "    <path d=\"M0 0h24v24H0V0z\" fill=\"none\"/>\n",
              "    <path d=\"M18.56 5.44l.94 2.06.94-2.06 2.06-.94-2.06-.94-.94-2.06-.94 2.06-2.06.94zm-11 1L8.5 8.5l.94-2.06 2.06-.94-2.06-.94L8.5 2.5l-.94 2.06-2.06.94zm10 10l.94 2.06.94-2.06 2.06-.94-2.06-.94-.94-2.06-.94 2.06-2.06.94z\"/><path d=\"M17.41 7.96l-1.37-1.37c-.4-.4-.92-.59-1.43-.59-.52 0-1.04.2-1.43.59L10.3 9.45l-7.72 7.72c-.78.78-.78 2.05 0 2.83L4 21.41c.39.39.9.59 1.41.59.51 0 1.02-.2 1.41-.59l7.78-7.78 2.81-2.81c.8-.78.8-2.07 0-2.86zM5.41 20L4 18.59l7.72-7.72 1.47 1.35L5.41 20z\"/>\n",
              "  </svg>\n",
              "      </button>\n",
              "      \n",
              "  <style>\n",
              "    .colab-df-container {\n",
              "      display:flex;\n",
              "      flex-wrap:wrap;\n",
              "      gap: 12px;\n",
              "    }\n",
              "\n",
              "    .colab-df-convert {\n",
              "      background-color: #E8F0FE;\n",
              "      border: none;\n",
              "      border-radius: 50%;\n",
              "      cursor: pointer;\n",
              "      display: none;\n",
              "      fill: #1967D2;\n",
              "      height: 32px;\n",
              "      padding: 0 0 0 0;\n",
              "      width: 32px;\n",
              "    }\n",
              "\n",
              "    .colab-df-convert:hover {\n",
              "      background-color: #E2EBFA;\n",
              "      box-shadow: 0px 1px 2px rgba(60, 64, 67, 0.3), 0px 1px 3px 1px rgba(60, 64, 67, 0.15);\n",
              "      fill: #174EA6;\n",
              "    }\n",
              "\n",
              "    [theme=dark] .colab-df-convert {\n",
              "      background-color: #3B4455;\n",
              "      fill: #D2E3FC;\n",
              "    }\n",
              "\n",
              "    [theme=dark] .colab-df-convert:hover {\n",
              "      background-color: #434B5C;\n",
              "      box-shadow: 0px 1px 3px 1px rgba(0, 0, 0, 0.15);\n",
              "      filter: drop-shadow(0px 1px 2px rgba(0, 0, 0, 0.3));\n",
              "      fill: #FFFFFF;\n",
              "    }\n",
              "  </style>\n",
              "\n",
              "      <script>\n",
              "        const buttonEl =\n",
              "          document.querySelector('#df-94218a90-8185-4f10-98c0-dea37ad44f44 button.colab-df-convert');\n",
              "        buttonEl.style.display =\n",
              "          google.colab.kernel.accessAllowed ? 'block' : 'none';\n",
              "\n",
              "        async function convertToInteractive(key) {\n",
              "          const element = document.querySelector('#df-94218a90-8185-4f10-98c0-dea37ad44f44');\n",
              "          const dataTable =\n",
              "            await google.colab.kernel.invokeFunction('convertToInteractive',\n",
              "                                                     [key], {});\n",
              "          if (!dataTable) return;\n",
              "\n",
              "          const docLinkHtml = 'Like what you see? Visit the ' +\n",
              "            '<a target=\"_blank\" href=https://colab.research.google.com/notebooks/data_table.ipynb>data table notebook</a>'\n",
              "            + ' to learn more about interactive tables.';\n",
              "          element.innerHTML = '';\n",
              "          dataTable['output_type'] = 'display_data';\n",
              "          await google.colab.output.renderOutput(dataTable, element);\n",
              "          const docLink = document.createElement('div');\n",
              "          docLink.innerHTML = docLinkHtml;\n",
              "          element.appendChild(docLink);\n",
              "        }\n",
              "      </script>\n",
              "    </div>\n",
              "  </div>\n",
              "  "
            ]
          },
          "metadata": {},
          "execution_count": 44
        }
      ]
    },
    {
      "cell_type": "code",
      "source": [
        "df.to_csv(drive_path + 'kakao_review.csv', encoding='utf-8')"
      ],
      "metadata": {
        "id": "xFOhR45t2WEj"
      },
      "execution_count": 45,
      "outputs": []
    },
    {
      "cell_type": "code",
      "source": [
        "driver.quit()"
      ],
      "metadata": {
        "id": "Rfj0rq3D1XLU"
      },
      "execution_count": 46,
      "outputs": []
    },
    {
      "cell_type": "code",
      "source": [
        ""
      ],
      "metadata": {
        "id": "vyIoZepS1Yas"
      },
      "execution_count": null,
      "outputs": []
    }
  ]
}